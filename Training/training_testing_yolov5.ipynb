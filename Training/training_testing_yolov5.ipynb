{
 "cells": [
  {
   "cell_type": "code",
   "execution_count": 1,
   "metadata": {
    "ExecuteTime": {
     "end_time": "2024-02-22T11:34:14.215742300Z",
     "start_time": "2024-02-22T11:34:10.679107100Z"
    }
   },
   "outputs": [],
   "source": [
    "import torch # YOLOv5 implemented using pytorch"
   ]
  },
  {
   "cell_type": "code",
   "execution_count": 2,
   "metadata": {
    "ExecuteTime": {
     "end_time": "2024-02-22T11:34:25.894704100Z",
     "start_time": "2024-02-22T11:34:25.872649700Z"
    }
   },
   "outputs": [],
   "source": [
    "from IPython.display import Image #this is to render predictions"
   ]
  },
  {
   "cell_type": "code",
   "execution_count": 4,
   "metadata": {
    "ExecuteTime": {
     "end_time": "2024-02-22T11:35:26.214910200Z",
     "start_time": "2024-02-22T11:34:44.687669700Z"
    }
   },
   "outputs": [
    {
     "name": "stderr",
     "output_type": "stream",
     "text": [
      "Cloning into 'yolov5'...\n"
     ]
    }
   ],
   "source": [
    "!git clone https://github.com/ultralytics/yolov5\n",
    "\n",
    "# !git clone http://github.com/ultralytics/ultralytics\n",
    "# %pip install -qe ultralytics\n",
    "# %cd ultralytics"
   ]
  },
  {
   "cell_type": "code",
   "execution_count": 5,
   "metadata": {
    "ExecuteTime": {
     "end_time": "2024-02-22T11:36:09.299399400Z",
     "start_time": "2024-02-22T11:36:09.237293Z"
    }
   },
   "outputs": [
    {
     "name": "stdout",
     "output_type": "stream",
     "text": [
      "C:\\Users\\Chanda\\Final_Year_Project\\yolov5\n"
     ]
    }
   ],
   "source": [
    "%cd yolov5"
   ]
  },
  {
   "cell_type": "code",
   "execution_count": 8,
   "metadata": {
    "ExecuteTime": {
     "end_time": "2024-02-22T13:26:30.369053900Z",
     "start_time": "2024-02-22T13:26:22.236857100Z"
    }
   },
   "outputs": [
    {
     "name": "stdout",
     "output_type": "stream",
     "text": [
      "Defaulting to user installation because normal site-packages is not writeable\n",
      "Requirement already satisfied: gitpython>=3.1.30 in c:\\users\\chanda\\appdata\\roaming\\python\\python311\\site-packages (from -r requirements.txt (line 5)) (3.1.42)\n",
      "Requirement already satisfied: matplotlib>=3.3 in c:\\programdata\\anaconda3\\lib\\site-packages (from -r requirements.txt (line 6)) (3.7.2)\n",
      "Requirement already satisfied: numpy>=1.23.5 in c:\\programdata\\anaconda3\\lib\\site-packages (from -r requirements.txt (line 7)) (1.24.3)\n",
      "Requirement already satisfied: opencv-python>=4.1.1 in c:\\users\\chanda\\appdata\\roaming\\python\\python311\\site-packages (from -r requirements.txt (line 8)) (4.9.0.80)\n",
      "Requirement already satisfied: Pillow>=9.4.0 in c:\\programdata\\anaconda3\\lib\\site-packages (from -r requirements.txt (line 9)) (10.2.0)\n",
      "Requirement already satisfied: psutil in c:\\programdata\\anaconda3\\lib\\site-packages (from -r requirements.txt (line 10)) (5.9.0)\n",
      "Requirement already satisfied: PyYAML>=5.3.1 in c:\\programdata\\anaconda3\\lib\\site-packages (from -r requirements.txt (line 11)) (6.0)\n",
      "Requirement already satisfied: requests>=2.23.0 in c:\\programdata\\anaconda3\\lib\\site-packages (from -r requirements.txt (line 12)) (2.31.0)\n",
      "Requirement already satisfied: scipy>=1.4.1 in c:\\programdata\\anaconda3\\lib\\site-packages (from -r requirements.txt (line 13)) (1.11.1)\n",
      "Requirement already satisfied: thop>=0.1.1 in c:\\users\\chanda\\appdata\\roaming\\python\\python311\\site-packages (from -r requirements.txt (line 14)) (0.1.1.post2209072238)\n",
      "Requirement already satisfied: torch>=1.8.0 in c:\\users\\chanda\\appdata\\roaming\\python\\python311\\site-packages (from -r requirements.txt (line 15)) (2.2.0)\n",
      "Requirement already satisfied: torchvision>=0.9.0 in c:\\users\\chanda\\appdata\\roaming\\python\\python311\\site-packages (from -r requirements.txt (line 16)) (0.17.0)\n",
      "Requirement already satisfied: tqdm>=4.64.0 in c:\\programdata\\anaconda3\\lib\\site-packages (from -r requirements.txt (line 17)) (4.65.0)\n",
      "Requirement already satisfied: ultralytics>=8.0.232 in c:\\users\\chanda\\appdata\\roaming\\python\\python311\\site-packages (from -r requirements.txt (line 18)) (8.1.17)\n",
      "Requirement already satisfied: pandas>=1.1.4 in c:\\programdata\\anaconda3\\lib\\site-packages (from -r requirements.txt (line 27)) (2.0.3)\n",
      "Requirement already satisfied: seaborn>=0.11.0 in c:\\programdata\\anaconda3\\lib\\site-packages (from -r requirements.txt (line 28)) (0.12.2)\n",
      "Requirement already satisfied: setuptools>=65.5.1 in c:\\programdata\\anaconda3\\lib\\site-packages (from -r requirements.txt (line 42)) (68.0.0)\n",
      "Requirement already satisfied: gitdb<5,>=4.0.1 in c:\\users\\chanda\\appdata\\roaming\\python\\python311\\site-packages (from gitpython>=3.1.30->-r requirements.txt (line 5)) (4.0.11)\n",
      "Requirement already satisfied: contourpy>=1.0.1 in c:\\programdata\\anaconda3\\lib\\site-packages (from matplotlib>=3.3->-r requirements.txt (line 6)) (1.0.5)\n",
      "Requirement already satisfied: cycler>=0.10 in c:\\programdata\\anaconda3\\lib\\site-packages (from matplotlib>=3.3->-r requirements.txt (line 6)) (0.11.0)\n",
      "Requirement already satisfied: fonttools>=4.22.0 in c:\\programdata\\anaconda3\\lib\\site-packages (from matplotlib>=3.3->-r requirements.txt (line 6)) (4.25.0)\n",
      "Requirement already satisfied: kiwisolver>=1.0.1 in c:\\programdata\\anaconda3\\lib\\site-packages (from matplotlib>=3.3->-r requirements.txt (line 6)) (1.4.4)\n",
      "Requirement already satisfied: packaging>=20.0 in c:\\programdata\\anaconda3\\lib\\site-packages (from matplotlib>=3.3->-r requirements.txt (line 6)) (23.1)\n",
      "Requirement already satisfied: pyparsing<3.1,>=2.3.1 in c:\\programdata\\anaconda3\\lib\\site-packages (from matplotlib>=3.3->-r requirements.txt (line 6)) (3.0.9)\n",
      "Requirement already satisfied: python-dateutil>=2.7 in c:\\programdata\\anaconda3\\lib\\site-packages (from matplotlib>=3.3->-r requirements.txt (line 6)) (2.8.2)\n",
      "Requirement already satisfied: charset-normalizer<4,>=2 in c:\\programdata\\anaconda3\\lib\\site-packages (from requests>=2.23.0->-r requirements.txt (line 12)) (2.0.4)\n",
      "Requirement already satisfied: idna<4,>=2.5 in c:\\programdata\\anaconda3\\lib\\site-packages (from requests>=2.23.0->-r requirements.txt (line 12)) (3.4)\n",
      "Requirement already satisfied: urllib3<3,>=1.21.1 in c:\\programdata\\anaconda3\\lib\\site-packages (from requests>=2.23.0->-r requirements.txt (line 12)) (1.26.16)\n",
      "Requirement already satisfied: certifi>=2017.4.17 in c:\\programdata\\anaconda3\\lib\\site-packages (from requests>=2.23.0->-r requirements.txt (line 12)) (2024.2.2)\n",
      "Requirement already satisfied: filelock in c:\\programdata\\anaconda3\\lib\\site-packages (from torch>=1.8.0->-r requirements.txt (line 15)) (3.9.0)\n",
      "Requirement already satisfied: typing-extensions>=4.8.0 in c:\\users\\chanda\\appdata\\roaming\\python\\python311\\site-packages (from torch>=1.8.0->-r requirements.txt (line 15)) (4.9.0)\n",
      "Requirement already satisfied: sympy in c:\\programdata\\anaconda3\\lib\\site-packages (from torch>=1.8.0->-r requirements.txt (line 15)) (1.11.1)\n",
      "Requirement already satisfied: networkx in c:\\programdata\\anaconda3\\lib\\site-packages (from torch>=1.8.0->-r requirements.txt (line 15)) (3.1)\n",
      "Requirement already satisfied: jinja2 in c:\\programdata\\anaconda3\\lib\\site-packages (from torch>=1.8.0->-r requirements.txt (line 15)) (3.1.2)\n",
      "Requirement already satisfied: fsspec in c:\\programdata\\anaconda3\\lib\\site-packages (from torch>=1.8.0->-r requirements.txt (line 15)) (2023.4.0)\n",
      "Requirement already satisfied: colorama in c:\\programdata\\anaconda3\\lib\\site-packages (from tqdm>=4.64.0->-r requirements.txt (line 17)) (0.4.6)\n",
      "Requirement already satisfied: py-cpuinfo in c:\\programdata\\anaconda3\\lib\\site-packages (from ultralytics>=8.0.232->-r requirements.txt (line 18)) (8.0.0)\n",
      "Requirement already satisfied: pytz>=2020.1 in c:\\programdata\\anaconda3\\lib\\site-packages (from pandas>=1.1.4->-r requirements.txt (line 27)) (2023.3.post1)\n",
      "Requirement already satisfied: tzdata>=2022.1 in c:\\programdata\\anaconda3\\lib\\site-packages (from pandas>=1.1.4->-r requirements.txt (line 27)) (2023.3)\n",
      "Requirement already satisfied: smmap<6,>=3.0.1 in c:\\users\\chanda\\appdata\\roaming\\python\\python311\\site-packages (from gitdb<5,>=4.0.1->gitpython>=3.1.30->-r requirements.txt (line 5)) (5.0.1)\n",
      "Requirement already satisfied: six>=1.5 in c:\\programdata\\anaconda3\\lib\\site-packages (from python-dateutil>=2.7->matplotlib>=3.3->-r requirements.txt (line 6)) (1.16.0)\n",
      "Requirement already satisfied: MarkupSafe>=2.0 in c:\\programdata\\anaconda3\\lib\\site-packages (from jinja2->torch>=1.8.0->-r requirements.txt (line 15)) (2.1.1)\n",
      "Requirement already satisfied: mpmath>=0.19 in c:\\programdata\\anaconda3\\lib\\site-packages (from sympy->torch>=1.8.0->-r requirements.txt (line 15)) (1.3.0)\n"
     ]
    }
   ],
   "source": [
    "!pip install -r requirements.txt"
   ]
  },
  {
   "cell_type": "code",
   "execution_count": 9,
   "metadata": {
    "ExecuteTime": {
     "end_time": "2024-02-22T13:26:38.349517300Z",
     "start_time": "2024-02-22T13:26:38.339666300Z"
    }
   },
   "outputs": [],
   "source": [
    "from tqdm import tqdm\n",
    "import IProgress\n",
    "from ipywidgets import IntProgress"
   ]
  },
  {
   "cell_type": "code",
   "execution_count": 10,
   "metadata": {
    "ExecuteTime": {
     "end_time": "2024-02-22T13:27:02.254262700Z",
     "start_time": "2024-02-22T13:27:02.219570400Z"
    }
   },
   "outputs": [
    {
     "data": {
      "text/plain": [
       "[]"
      ]
     },
     "execution_count": 10,
     "metadata": {},
     "output_type": "execute_result"
    }
   ],
   "source": [
    "torch.cuda.get_arch_list() "
   ]
  },
  {
   "cell_type": "code",
   "execution_count": 11,
   "metadata": {
    "ExecuteTime": {
     "end_time": "2024-02-22T13:27:11.775913Z",
     "start_time": "2024-02-22T13:27:11.764903200Z"
    }
   },
   "outputs": [
    {
     "name": "stdout",
     "output_type": "stream",
     "text": [
      "All set. Using PyTorch version 2.2.0+cpu with CPU\n"
     ]
    }
   ],
   "source": [
    "print('All set. Using PyTorch version %s with %s' % (torch.__version__, torch.cuda.get_device_properties(0) if torch.cuda.is_available() else 'CPU'))"
   ]
  },
  {
   "cell_type": "markdown",
   "metadata": {},
   "source": [
    "# Training the yolov5 Model"
   ]
  },
  {
   "cell_type": "markdown",
   "metadata": {},
   "source": [
    " Once all the files are cloned, you’ll need to move the dataset’s dataset.yaml file to the yolov5/data directory. \n",
    " This file contains information required by YOLO to train the model on the custom data. "
   ]
  },
  {
   "cell_type": "code",
   "execution_count": 19,
   "metadata": {
    "ExecuteTime": {
     "end_time": "2024-02-22T14:11:30.473488500Z",
     "start_time": "2024-02-22T14:06:38.025770600Z"
    }
   },
   "outputs": [
    {
     "name": "stderr",
     "output_type": "stream",
     "text": [
      "\u001B[34m\u001B[1mtrain: \u001B[0mweights=yolov5s.pt, cfg=, data=C:\\Users\\Chanda\\Final_Year_Project\\dataset\\data.yaml, hyp=data\\hyps\\hyp.scratch-low.yaml, epochs=1, batch_size=16, imgsz=416, rect=False, resume=False, nosave=False, noval=False, noautoanchor=False, noplots=False, evolve=None, evolve_population=data\\hyps, resume_evolve=None, bucket=, cache=ram, image_weights=False, device=, multi_scale=False, single_cls=False, optimizer=SGD, sync_bn=False, workers=8, project=runs\\train, name=exp, exist_ok=False, quad=False, cos_lr=False, label_smoothing=0.0, patience=100, freeze=[0], save_period=-1, seed=0, local_rank=-1, entity=None, upload_dataset=False, bbox_interval=-1, artifact_alias=latest, ndjson_console=False, ndjson_file=False\n",
      "\u001B[34m\u001B[1mgithub: \u001B[0mup to date with https://github.com/ultralytics/yolov5 \n",
      "YOLOv5  v7.0-284-g95ebf68f Python-3.11.5 torch-2.2.0+cpu CPU\n",
      "\n",
      "\u001B[34m\u001B[1mhyperparameters: \u001B[0mlr0=0.01, lrf=0.01, momentum=0.937, weight_decay=0.0005, warmup_epochs=3.0, warmup_momentum=0.8, warmup_bias_lr=0.1, box=0.05, cls=0.5, cls_pw=1.0, obj=1.0, obj_pw=1.0, iou_t=0.2, anchor_t=4.0, fl_gamma=0.0, hsv_h=0.015, hsv_s=0.7, hsv_v=0.4, degrees=0.0, translate=0.1, scale=0.5, shear=0.0, perspective=0.0, flipud=0.0, fliplr=0.5, mosaic=1.0, mixup=0.0, copy_paste=0.0\n",
      "\u001B[34m\u001B[1mComet: \u001B[0mrun 'pip install comet_ml' to automatically track and visualize YOLOv5  runs in Comet\n",
      "\u001B[34m\u001B[1mTensorBoard: \u001B[0mStart with 'tensorboard --logdir runs\\train', view at http://localhost:6006/\n",
      "Overriding model.yaml nc=80 with nc=20\n",
      "\n",
      "                 from  n    params  module                                  arguments                     \n",
      "  0                -1  1      3520  models.common.Conv                      [3, 32, 6, 2, 2]              \n",
      "  1                -1  1     18560  models.common.Conv                      [32, 64, 3, 2]                \n",
      "  2                -1  1     18816  models.common.C3                        [64, 64, 1]                   \n",
      "  3                -1  1     73984  models.common.Conv                      [64, 128, 3, 2]               \n",
      "  4                -1  2    115712  models.common.C3                        [128, 128, 2]                 \n",
      "  5                -1  1    295424  models.common.Conv                      [128, 256, 3, 2]              \n",
      "  6                -1  3    625152  models.common.C3                        [256, 256, 3]                 \n",
      "  7                -1  1   1180672  models.common.Conv                      [256, 512, 3, 2]              \n",
      "  8                -1  1   1182720  models.common.C3                        [512, 512, 1]                 \n",
      "  9                -1  1    656896  models.common.SPPF                      [512, 512, 5]                 \n",
      " 10                -1  1    131584  models.common.Conv                      [512, 256, 1, 1]              \n",
      " 11                -1  1         0  torch.nn.modules.upsampling.Upsample    [None, 2, 'nearest']          \n",
      " 12           [-1, 6]  1         0  models.common.Concat                    [1]                           \n",
      " 13                -1  1    361984  models.common.C3                        [512, 256, 1, False]          \n",
      " 14                -1  1     33024  models.common.Conv                      [256, 128, 1, 1]              \n",
      " 15                -1  1         0  torch.nn.modules.upsampling.Upsample    [None, 2, 'nearest']          \n",
      " 16           [-1, 4]  1         0  models.common.Concat                    [1]                           \n",
      " 17                -1  1     90880  models.common.C3                        [256, 128, 1, False]          \n",
      " 18                -1  1    147712  models.common.Conv                      [128, 128, 3, 2]              \n",
      " 19          [-1, 14]  1         0  models.common.Concat                    [1]                           \n",
      " 20                -1  1    296448  models.common.C3                        [256, 256, 1, False]          \n",
      " 21                -1  1    590336  models.common.Conv                      [256, 256, 3, 2]              \n",
      " 22          [-1, 10]  1         0  models.common.Concat                    [1]                           \n",
      " 23                -1  1   1182720  models.common.C3                        [512, 512, 1, False]          \n",
      " 24      [17, 20, 23]  1     67425  models.yolo.Detect                      [20, [[10, 13, 16, 30, 33, 23], [30, 61, 62, 45, 59, 119], [116, 90, 156, 198, 373, 326]], [128, 256, 512]]\n",
      "Model summary: 214 layers, 7073569 parameters, 7073569 gradients, 16.1 GFLOPs\n",
      "\n",
      "Transferred 343/349 items from yolov5s.pt\n",
      "\u001B[34m\u001B[1moptimizer:\u001B[0m SGD(lr=0.01) with parameter groups 57 weight(decay=0.0), 60 weight(decay=0.0005), 60 bias\n",
      "\n",
      "\u001B[34m\u001B[1mtrain: \u001B[0mScanning C:\\Users\\Chanda\\Final_Year_Project\\dataset\\train\\labels...:   0%|          | 0/7354 [00:00<?, ?it/s]\n",
      "\u001B[34m\u001B[1mtrain: \u001B[0mScanning C:\\Users\\Chanda\\Final_Year_Project\\dataset\\train\\labels... 1 images, 0 backgrounds, 0 corrupt:   0%|          | 1/7354 [00:26<53:40:51, 26.28s/it]\n",
      "\u001B[34m\u001B[1mtrain: \u001B[0mScanning C:\\Users\\Chanda\\Final_Year_Project\\dataset\\train\\labels... 67 images, 0 backgrounds, 0 corrupt:   1%|          | 67/7354 [00:26<33:40,  3.61it/s] \n",
      "\u001B[34m\u001B[1mtrain: \u001B[0mScanning C:\\Users\\Chanda\\Final_Year_Project\\dataset\\train\\labels... 133 images, 0 backgrounds, 0 corrupt:   2%|1         | 133/7354 [00:26<13:57,  8.63it/s]\n",
      "\u001B[34m\u001B[1mtrain: \u001B[0mScanning C:\\Users\\Chanda\\Final_Year_Project\\dataset\\train\\labels... 195 images, 0 backgrounds, 0 corrupt:   3%|2         | 195/7354 [00:26<07:49, 15.24it/s]\n",
      "\u001B[34m\u001B[1mtrain: \u001B[0mScanning C:\\Users\\Chanda\\Final_Year_Project\\dataset\\train\\labels... 261 images, 0 backgrounds, 0 corrupt:   4%|3         | 261/7354 [00:26<04:43, 25.04it/s]\n",
      "\u001B[34m\u001B[1mtrain: \u001B[0mScanning C:\\Users\\Chanda\\Final_Year_Project\\dataset\\train\\labels... 341 images, 0 backgrounds, 0 corrupt:   5%|4         | 341/7354 [00:26<02:48, 41.51it/s]\n",
      "\u001B[34m\u001B[1mtrain: \u001B[0mScanning C:\\Users\\Chanda\\Final_Year_Project\\dataset\\train\\labels... 419 images, 0 backgrounds, 0 corrupt:   6%|5         | 419/7354 [00:26<01:49, 63.23it/s]\n",
      "\u001B[34m\u001B[1mtrain: \u001B[0mScanning C:\\Users\\Chanda\\Final_Year_Project\\dataset\\train\\labels... 555 images, 0 backgrounds, 0 corrupt:   8%|7         | 555/7354 [00:27<00:58, 115.51it/s]\n",
      "\u001B[34m\u001B[1mtrain: \u001B[0mScanning C:\\Users\\Chanda\\Final_Year_Project\\dataset\\train\\labels... 669 images, 0 backgrounds, 0 corrupt:   9%|9         | 669/7354 [00:27<00:39, 171.35it/s]\n",
      "\u001B[34m\u001B[1mtrain: \u001B[0mScanning C:\\Users\\Chanda\\Final_Year_Project\\dataset\\train\\labels... 782 images, 0 backgrounds, 0 corrupt:  11%|#         | 782/7354 [00:27<00:27, 240.57it/s]\n",
      "\u001B[34m\u001B[1mtrain: \u001B[0mScanning C:\\Users\\Chanda\\Final_Year_Project\\dataset\\train\\labels... 902 images, 0 backgrounds, 0 corrupt:  12%|#2        | 902/7354 [00:27<00:19, 329.70it/s]\n",
      "\u001B[34m\u001B[1mtrain: \u001B[0mScanning C:\\Users\\Chanda\\Final_Year_Project\\dataset\\train\\labels... 1040 images, 0 backgrounds, 0 corrupt:  14%|#4        | 1040/7354 [00:27<00:13, 452.89it/s]\n",
      "\u001B[34m\u001B[1mtrain: \u001B[0mScanning C:\\Users\\Chanda\\Final_Year_Project\\dataset\\train\\labels... 1174 images, 0 backgrounds, 0 corrupt:  16%|#5        | 1174/7354 [00:27<00:10, 579.66it/s]\n",
      "\u001B[34m\u001B[1mtrain: \u001B[0mScanning C:\\Users\\Chanda\\Final_Year_Project\\dataset\\train\\labels... 1328 images, 0 backgrounds, 0 corrupt:  18%|#8        | 1328/7354 [00:27<00:08, 742.90it/s]\n",
      "\u001B[34m\u001B[1mtrain: \u001B[0mScanning C:\\Users\\Chanda\\Final_Year_Project\\dataset\\train\\labels... 1478 images, 0 backgrounds, 0 corrupt:  20%|##        | 1478/7354 [00:27<00:06, 889.50it/s]\n",
      "\u001B[34m\u001B[1mtrain: \u001B[0mScanning C:\\Users\\Chanda\\Final_Year_Project\\dataset\\train\\labels... 1630 images, 0 backgrounds, 0 corrupt:  22%|##2       | 1630/7354 [00:27<00:05, 1026.70it/s]\n",
      "\u001B[34m\u001B[1mtrain: \u001B[0mScanning C:\\Users\\Chanda\\Final_Year_Project\\dataset\\train\\labels... 1776 images, 0 backgrounds, 0 corrupt:  24%|##4       | 1776/7354 [00:27<00:04, 1128.98it/s]\n",
      "\u001B[34m\u001B[1mtrain: \u001B[0mScanning C:\\Users\\Chanda\\Final_Year_Project\\dataset\\train\\labels... 1926 images, 0 backgrounds, 0 corrupt:  26%|##6       | 1926/7354 [00:28<00:04, 1222.66it/s]\n",
      "\u001B[34m\u001B[1mtrain: \u001B[0mScanning C:\\Users\\Chanda\\Final_Year_Project\\dataset\\train\\labels... 2079 images, 0 backgrounds, 0 corrupt:  28%|##8       | 2079/7354 [00:28<00:04, 1302.90it/s]\n",
      "\u001B[34m\u001B[1mtrain: \u001B[0mScanning C:\\Users\\Chanda\\Final_Year_Project\\dataset\\train\\labels... 2230 images, 0 backgrounds, 0 corrupt:  30%|###       | 2230/7354 [00:28<00:03, 1358.13it/s]\n",
      "\u001B[34m\u001B[1mtrain: \u001B[0mScanning C:\\Users\\Chanda\\Final_Year_Project\\dataset\\train\\labels... 2386 images, 0 backgrounds, 0 corrupt:  32%|###2      | 2386/7354 [00:28<00:03, 1412.68it/s]\n",
      "\u001B[34m\u001B[1mtrain: \u001B[0mScanning C:\\Users\\Chanda\\Final_Year_Project\\dataset\\train\\labels... 2537 images, 0 backgrounds, 0 corrupt:  34%|###4      | 2537/7354 [00:28<00:03, 1405.62it/s]\n",
      "\u001B[34m\u001B[1mtrain: \u001B[0mScanning C:\\Users\\Chanda\\Final_Year_Project\\dataset\\train\\labels... 2684 images, 0 backgrounds, 0 corrupt:  36%|###6      | 2684/7354 [00:28<00:03, 1422.22it/s]\n",
      "\u001B[34m\u001B[1mtrain: \u001B[0mScanning C:\\Users\\Chanda\\Final_Year_Project\\dataset\\train\\labels... 2831 images, 0 backgrounds, 0 corrupt:  38%|###8      | 2831/7354 [00:28<00:03, 1420.36it/s]\n",
      "\u001B[34m\u001B[1mtrain: \u001B[0mScanning C:\\Users\\Chanda\\Final_Year_Project\\dataset\\train\\labels... 2980 images, 0 backgrounds, 0 corrupt:  41%|####      | 2980/7354 [00:28<00:03, 1437.10it/s]\n",
      "\u001B[34m\u001B[1mtrain: \u001B[0mScanning C:\\Users\\Chanda\\Final_Year_Project\\dataset\\train\\labels... 3126 images, 0 backgrounds, 0 corrupt:  43%|####2     | 3126/7354 [00:28<00:02, 1432.76it/s]\n",
      "\u001B[34m\u001B[1mtrain: \u001B[0mScanning C:\\Users\\Chanda\\Final_Year_Project\\dataset\\train\\labels... 3286 images, 0 backgrounds, 0 corrupt:  45%|####4     | 3286/7354 [00:28<00:02, 1479.76it/s]\n",
      "\u001B[34m\u001B[1mtrain: \u001B[0mScanning C:\\Users\\Chanda\\Final_Year_Project\\dataset\\train\\labels... 3449 images, 0 backgrounds, 0 corrupt:  47%|####6     | 3449/7354 [00:29<00:02, 1521.01it/s]\n",
      "\u001B[34m\u001B[1mtrain: \u001B[0mScanning C:\\Users\\Chanda\\Final_Year_Project\\dataset\\train\\labels... 3602 images, 0 backgrounds, 0 corrupt:  49%|####8     | 3602/7354 [00:29<00:02, 1517.50it/s]\n",
      "\u001B[34m\u001B[1mtrain: \u001B[0mScanning C:\\Users\\Chanda\\Final_Year_Project\\dataset\\train\\labels... 3755 images, 0 backgrounds, 0 corrupt:  51%|#####1    | 3755/7354 [00:29<00:02, 1503.94it/s]\n",
      "\u001B[34m\u001B[1mtrain: \u001B[0mScanning C:\\Users\\Chanda\\Final_Year_Project\\dataset\\train\\labels... 3915 images, 0 backgrounds, 0 corrupt:  53%|#####3    | 3915/7354 [00:29<00:02, 1529.89it/s]\n",
      "\u001B[34m\u001B[1mtrain: \u001B[0mScanning C:\\Users\\Chanda\\Final_Year_Project\\dataset\\train\\labels... 4079 images, 0 backgrounds, 0 corrupt:  55%|#####5    | 4079/7354 [00:29<00:02, 1555.56it/s]\n",
      "\u001B[34m\u001B[1mtrain: \u001B[0mScanning C:\\Users\\Chanda\\Final_Year_Project\\dataset\\train\\labels... 4237 images, 0 backgrounds, 0 corrupt:  58%|#####7    | 4237/7354 [00:29<00:01, 1562.25it/s]\n",
      "\u001B[34m\u001B[1mtrain: \u001B[0mScanning C:\\Users\\Chanda\\Final_Year_Project\\dataset\\train\\labels... 4394 images, 0 backgrounds, 0 corrupt:  60%|#####9    | 4394/7354 [00:29<00:01, 1530.75it/s]\n",
      "\u001B[34m\u001B[1mtrain: \u001B[0mScanning C:\\Users\\Chanda\\Final_Year_Project\\dataset\\train\\labels... 4548 images, 0 backgrounds, 0 corrupt:  62%|######1   | 4548/7354 [00:29<00:01, 1519.38it/s]\n",
      "\u001B[34m\u001B[1mtrain: \u001B[0mScanning C:\\Users\\Chanda\\Final_Year_Project\\dataset\\train\\labels... 4710 images, 0 backgrounds, 0 corrupt:  64%|######4   | 4710/7354 [00:29<00:01, 1545.09it/s]\n",
      "\u001B[34m\u001B[1mtrain: \u001B[0mScanning C:\\Users\\Chanda\\Final_Year_Project\\dataset\\train\\labels... 4875 images, 0 backgrounds, 0 corrupt:  66%|######6   | 4875/7354 [00:29<00:01, 1574.33it/s]\n",
      "\u001B[34m\u001B[1mtrain: \u001B[0mScanning C:\\Users\\Chanda\\Final_Year_Project\\dataset\\train\\labels... 5044 images, 0 backgrounds, 0 corrupt:  69%|######8   | 5044/7354 [00:30<00:01, 1608.43it/s]\n",
      "\u001B[34m\u001B[1mtrain: \u001B[0mScanning C:\\Users\\Chanda\\Final_Year_Project\\dataset\\train\\labels... 5214 images, 0 backgrounds, 0 corrupt:  71%|#######   | 5214/7354 [00:30<00:01, 1631.32it/s]\n",
      "\u001B[34m\u001B[1mtrain: \u001B[0mScanning C:\\Users\\Chanda\\Final_Year_Project\\dataset\\train\\labels... 5378 images, 0 backgrounds, 0 corrupt:  73%|#######3  | 5378/7354 [00:30<00:01, 1604.87it/s]\n",
      "\u001B[34m\u001B[1mtrain: \u001B[0mScanning C:\\Users\\Chanda\\Final_Year_Project\\dataset\\train\\labels... 5551 images, 0 backgrounds, 0 corrupt:  75%|#######5  | 5551/7354 [00:30<00:01, 1636.24it/s]\n",
      "\u001B[34m\u001B[1mtrain: \u001B[0mScanning C:\\Users\\Chanda\\Final_Year_Project\\dataset\\train\\labels... 5716 images, 0 backgrounds, 0 corrupt:  78%|#######7  | 5716/7354 [00:30<00:00, 1640.29it/s]\n",
      "\u001B[34m\u001B[1mtrain: \u001B[0mScanning C:\\Users\\Chanda\\Final_Year_Project\\dataset\\train\\labels... 5889 images, 0 backgrounds, 0 corrupt:  80%|########  | 5889/7354 [00:30<00:00, 1666.02it/s]\n",
      "\u001B[34m\u001B[1mtrain: \u001B[0mScanning C:\\Users\\Chanda\\Final_Year_Project\\dataset\\train\\labels... 6056 images, 0 backgrounds, 0 corrupt:  82%|########2 | 6056/7354 [00:30<00:00, 1651.26it/s]\n",
      "\u001B[34m\u001B[1mtrain: \u001B[0mScanning C:\\Users\\Chanda\\Final_Year_Project\\dataset\\train\\labels... 6234 images, 0 backgrounds, 0 corrupt:  85%|########4 | 6234/7354 [00:30<00:00, 1682.16it/s]\n",
      "\u001B[34m\u001B[1mtrain: \u001B[0mScanning C:\\Users\\Chanda\\Final_Year_Project\\dataset\\train\\labels... 6414 images, 0 backgrounds, 0 corrupt:  87%|########7 | 6414/7354 [00:30<00:00, 1712.91it/s]\n",
      "\u001B[34m\u001B[1mtrain: \u001B[0mScanning C:\\Users\\Chanda\\Final_Year_Project\\dataset\\train\\labels... 6586 images, 0 backgrounds, 0 corrupt:  90%|########9 | 6586/7354 [00:30<00:00, 1647.39it/s]\n",
      "\u001B[34m\u001B[1mtrain: \u001B[0mScanning C:\\Users\\Chanda\\Final_Year_Project\\dataset\\train\\labels... 6752 images, 0 backgrounds, 0 corrupt:  92%|#########1| 6752/7354 [00:31<00:00, 1638.51it/s]\n",
      "\u001B[34m\u001B[1mtrain: \u001B[0mScanning C:\\Users\\Chanda\\Final_Year_Project\\dataset\\train\\labels... 6928 images, 0 backgrounds, 0 corrupt:  94%|#########4| 6928/7354 [00:31<00:00, 1671.17it/s]\n",
      "\u001B[34m\u001B[1mtrain: \u001B[0mScanning C:\\Users\\Chanda\\Final_Year_Project\\dataset\\train\\labels... 7096 images, 0 backgrounds, 0 corrupt:  96%|#########6| 7096/7354 [00:31<00:00, 1620.98it/s]\n",
      "\u001B[34m\u001B[1mtrain: \u001B[0mScanning C:\\Users\\Chanda\\Final_Year_Project\\dataset\\train\\labels... 7259 images, 0 backgrounds, 0 corrupt:  99%|#########8| 7259/7354 [00:31<00:00, 1567.14it/s]\n",
      "\u001B[34m\u001B[1mtrain: \u001B[0mScanning C:\\Users\\Chanda\\Final_Year_Project\\dataset\\train\\labels... 7354 images, 0 backgrounds, 0 corrupt: 100%|##########| 7354/7354 [00:31<00:00, 233.74it/s] \n",
      "\u001B[34m\u001B[1mtrain: \u001B[0mWARNING  Cache directory C:\\Users\\Chanda\\Final_Year_Project\\dataset\\train is not writeable: [WinError 183] Cannot create a file when that file already exists: 'C:\\\\Users\\\\Chanda\\\\Final_Year_Project\\\\dataset\\\\train\\\\labels.cache.npy' -> 'C:\\\\Users\\\\Chanda\\\\Final_Year_Project\\\\dataset\\\\train\\\\labels.cache'\n",
      "\n",
      "  0%|          | 0/7354 [00:00<?, ?it/s]\n",
      "\u001B[34m\u001B[1mtrain: \u001B[0mCaching images (0.0GB ram):   1%|          | 58/7354 [00:00<00:12, 577.86it/s]\n",
      "\u001B[34m\u001B[1mtrain: \u001B[0mCaching images (0.1GB ram):   2%|1         | 116/7354 [00:00<00:12, 576.29it/s]\n",
      "\u001B[34m\u001B[1mtrain: \u001B[0mCaching images (0.1GB ram):   2%|2         | 174/7354 [00:00<00:13, 529.54it/s]\n",
      "\u001B[34m\u001B[1mtrain: \u001B[0mCaching images (0.1GB ram):   3%|3         | 228/7354 [00:00<00:14, 499.10it/s]\n",
      "\u001B[34m\u001B[1mtrain: \u001B[0mCaching images (0.1GB ram):   4%|3         | 279/7354 [00:00<00:14, 472.98it/s]\n",
      "\u001B[34m\u001B[1mtrain: \u001B[0mCaching images (0.2GB ram):   4%|4         | 327/7354 [00:00<00:15, 459.56it/s]\n",
      "\u001B[34m\u001B[1mtrain: \u001B[0mCaching images (0.2GB ram):   5%|5         | 374/7354 [00:00<00:15, 453.99it/s]\n",
      "\u001B[34m\u001B[1mtrain: \u001B[0mCaching images (0.2GB ram):   6%|5         | 420/7354 [00:00<00:15, 437.86it/s]\n",
      "\u001B[34m\u001B[1mtrain: \u001B[0mCaching images (0.2GB ram):   6%|6         | 465/7354 [00:00<00:15, 440.44it/s]\n",
      "\u001B[34m\u001B[1mtrain: \u001B[0mCaching images (0.2GB ram):   7%|6         | 510/7354 [00:01<00:15, 429.02it/s]\n",
      "\u001B[34m\u001B[1mtrain: \u001B[0mCaching images (0.3GB ram):   8%|7         | 553/7354 [00:01<00:16, 414.16it/s]\n",
      "\u001B[34m\u001B[1mtrain: \u001B[0mCaching images (0.3GB ram):   8%|8         | 595/7354 [00:01<00:16, 402.11it/s]\n",
      "\u001B[34m\u001B[1mtrain: \u001B[0mCaching images (0.3GB ram):   9%|8         | 636/7354 [00:01<00:16, 397.57it/s]\n",
      "\u001B[34m\u001B[1mtrain: \u001B[0mCaching images (0.3GB ram):   9%|9         | 678/7354 [00:01<00:16, 399.65it/s]\n",
      "\u001B[34m\u001B[1mtrain: \u001B[0mCaching images (0.3GB ram):  10%|9         | 722/7354 [00:01<00:16, 407.50it/s]\n",
      "\u001B[34m\u001B[1mtrain: \u001B[0mCaching images (0.4GB ram):  10%|#         | 763/7354 [00:01<00:17, 386.97it/s]\n",
      "\u001B[34m\u001B[1mtrain: \u001B[0mCaching images (0.4GB ram):  11%|#         | 806/7354 [00:01<00:16, 398.95it/s]\n",
      "\u001B[34m\u001B[1mtrain: \u001B[0mCaching images (0.4GB ram):  12%|#1        | 847/7354 [00:01<00:16, 401.27it/s]\n",
      "\u001B[34m\u001B[1mtrain: \u001B[0mCaching images (0.4GB ram):  12%|#2        | 888/7354 [00:02<00:16, 394.37it/s]\n",
      "\u001B[34m\u001B[1mtrain: \u001B[0mCaching images (0.4GB ram):  13%|#2        | 930/7354 [00:02<00:16, 394.27it/s]\n",
      "\u001B[34m\u001B[1mtrain: \u001B[0mCaching images (0.5GB ram):  13%|#3        | 971/7354 [00:02<00:16, 387.24it/s]\n",
      "\u001B[34m\u001B[1mtrain: \u001B[0mCaching images (0.5GB ram):  14%|#3        | 1014/7354 [00:02<00:15, 398.98it/s]\n",
      "\u001B[34m\u001B[1mtrain: \u001B[0mCaching images (0.5GB ram):  14%|#4        | 1058/7354 [00:02<00:15, 404.18it/s]\n",
      "\u001B[34m\u001B[1mtrain: \u001B[0mCaching images (0.5GB ram):  15%|#4        | 1100/7354 [00:02<00:15, 402.58it/s]\n",
      "\u001B[34m\u001B[1mtrain: \u001B[0mCaching images (0.6GB ram):  16%|#5        | 1141/7354 [00:02<00:15, 399.11it/s]\n",
      "\u001B[34m\u001B[1mtrain: \u001B[0mCaching images (0.6GB ram):  16%|#6        | 1183/7354 [00:02<00:15, 403.57it/s]\n",
      "\u001B[34m\u001B[1mtrain: \u001B[0mCaching images (0.6GB ram):  17%|#6        | 1224/7354 [00:02<00:15, 395.54it/s]\n",
      "\u001B[34m\u001B[1mtrain: \u001B[0mCaching images (0.6GB ram):  17%|#7        | 1267/7354 [00:03<00:15, 405.43it/s]\n",
      "\u001B[34m\u001B[1mtrain: \u001B[0mCaching images (0.6GB ram):  18%|#7        | 1308/7354 [00:03<00:15, 396.19it/s]\n",
      "\u001B[34m\u001B[1mtrain: \u001B[0mCaching images (0.7GB ram):  18%|#8        | 1348/7354 [00:03<00:15, 380.21it/s]\n",
      "\u001B[34m\u001B[1mtrain: \u001B[0mCaching images (0.7GB ram):  19%|#8        | 1390/7354 [00:03<00:15, 390.69it/s]\n",
      "\u001B[34m\u001B[1mtrain: \u001B[0mCaching images (0.7GB ram):  19%|#9        | 1430/7354 [00:03<00:15, 377.38it/s]\n",
      "\u001B[34m\u001B[1mtrain: \u001B[0mCaching images (0.7GB ram):  20%|#9        | 1469/7354 [00:03<00:15, 372.08it/s]\n",
      "\u001B[34m\u001B[1mtrain: \u001B[0mCaching images (0.7GB ram):  21%|##        | 1508/7354 [00:03<00:15, 375.66it/s]\n",
      "\u001B[34m\u001B[1mtrain: \u001B[0mCaching images (0.7GB ram):  21%|##1       | 1547/7354 [00:03<00:15, 379.24it/s]\n",
      "\u001B[34m\u001B[1mtrain: \u001B[0mCaching images (0.8GB ram):  22%|##1       | 1587/7354 [00:03<00:14, 385.12it/s]\n",
      "\u001B[34m\u001B[1mtrain: \u001B[0mCaching images (0.8GB ram):  22%|##2       | 1626/7354 [00:03<00:15, 379.06it/s]\n",
      "\u001B[34m\u001B[1mtrain: \u001B[0mCaching images (0.8GB ram):  23%|##2       | 1665/7354 [00:04<00:15, 376.47it/s]\n",
      "\u001B[34m\u001B[1mtrain: \u001B[0mCaching images (0.8GB ram):  23%|##3       | 1705/7354 [00:04<00:15, 372.43it/s]\n",
      "\u001B[34m\u001B[1mtrain: \u001B[0mCaching images (0.8GB ram):  24%|##3       | 1745/7354 [00:04<00:15, 367.37it/s]\n",
      "\u001B[34m\u001B[1mtrain: \u001B[0mCaching images (0.9GB ram):  24%|##4       | 1785/7354 [00:04<00:14, 375.24it/s]\n",
      "\u001B[34m\u001B[1mtrain: \u001B[0mCaching images (0.9GB ram):  25%|##4       | 1823/7354 [00:04<00:15, 362.62it/s]\n",
      "\u001B[34m\u001B[1mtrain: \u001B[0mCaching images (0.9GB ram):  25%|##5       | 1861/7354 [00:04<00:15, 361.53it/s]\n",
      "\u001B[34m\u001B[1mtrain: \u001B[0mCaching images (0.9GB ram):  26%|##5       | 1899/7354 [00:04<00:14, 366.50it/s]\n",
      "\u001B[34m\u001B[1mtrain: \u001B[0mCaching images (0.9GB ram):  26%|##6       | 1938/7354 [00:04<00:14, 369.30it/s]\n",
      "\u001B[34m\u001B[1mtrain: \u001B[0mCaching images (1.0GB ram):  27%|##6       | 1977/7354 [00:04<00:14, 375.21it/s]\n",
      "\u001B[34m\u001B[1mtrain: \u001B[0mCaching images (1.0GB ram):  27%|##7       | 2016/7354 [00:05<00:14, 377.43it/s]\n",
      "\u001B[34m\u001B[1mtrain: \u001B[0mCaching images (1.0GB ram):  28%|##7       | 2055/7354 [00:05<00:14, 378.35it/s]\n",
      "\u001B[34m\u001B[1mtrain: \u001B[0mCaching images (1.0GB ram):  28%|##8       | 2094/7354 [00:05<00:13, 379.94it/s]\n",
      "\u001B[34m\u001B[1mtrain: \u001B[0mCaching images (1.0GB ram):  29%|##9       | 2133/7354 [00:05<00:14, 370.85it/s]\n",
      "\u001B[34m\u001B[1mtrain: \u001B[0mCaching images (1.0GB ram):  30%|##9       | 2171/7354 [00:05<00:14, 369.65it/s]\n",
      "\u001B[34m\u001B[1mtrain: \u001B[0mCaching images (1.1GB ram):  30%|###       | 2211/7354 [00:05<00:13, 377.29it/s]\n",
      "\u001B[34m\u001B[1mtrain: \u001B[0mCaching images (1.1GB ram):  31%|###       | 2249/7354 [00:05<00:13, 371.17it/s]\n",
      "\u001B[34m\u001B[1mtrain: \u001B[0mCaching images (1.1GB ram):  31%|###1      | 2287/7354 [00:05<00:13, 367.85it/s]\n",
      "\u001B[34m\u001B[1mtrain: \u001B[0mCaching images (1.1GB ram):  32%|###1      | 2324/7354 [00:05<00:14, 356.90it/s]\n",
      "\u001B[34m\u001B[1mtrain: \u001B[0mCaching images (1.1GB ram):  32%|###2      | 2360/7354 [00:05<00:13, 357.51it/s]\n",
      "\u001B[34m\u001B[1mtrain: \u001B[0mCaching images (1.2GB ram):  33%|###2      | 2400/7354 [00:06<00:13, 367.35it/s]\n",
      "\u001B[34m\u001B[1mtrain: \u001B[0mCaching images (1.2GB ram):  33%|###3      | 2441/7354 [00:06<00:13, 376.39it/s]\n",
      "\u001B[34m\u001B[1mtrain: \u001B[0mCaching images (1.2GB ram):  34%|###3      | 2479/7354 [00:06<00:14, 346.49it/s]\n",
      "\u001B[34m\u001B[1mtrain: \u001B[0mCaching images (1.2GB ram):  34%|###4      | 2515/7354 [00:06<00:13, 345.73it/s]\n",
      "\u001B[34m\u001B[1mtrain: \u001B[0mCaching images (1.2GB ram):  35%|###4      | 2551/7354 [00:06<00:13, 343.20it/s]\n",
      "\u001B[34m\u001B[1mtrain: \u001B[0mCaching images (1.3GB ram):  35%|###5      | 2587/7354 [00:06<00:13, 347.27it/s]\n",
      "\u001B[34m\u001B[1mtrain: \u001B[0mCaching images (1.3GB ram):  36%|###5      | 2622/7354 [00:06<00:13, 345.41it/s]\n",
      "\u001B[34m\u001B[1mtrain: \u001B[0mCaching images (1.3GB ram):  36%|###6      | 2659/7354 [00:06<00:13, 338.74it/s]\n",
      "\u001B[34m\u001B[1mtrain: \u001B[0mCaching images (1.3GB ram):  37%|###6      | 2700/7354 [00:06<00:13, 347.31it/s]\n",
      "\u001B[34m\u001B[1mtrain: \u001B[0mCaching images (1.3GB ram):  37%|###7      | 2739/7354 [00:07<00:12, 359.31it/s]\n",
      "\u001B[34m\u001B[1mtrain: \u001B[0mCaching images (1.3GB ram):  38%|###7      | 2776/7354 [00:07<00:12, 355.18it/s]\n",
      "\u001B[34m\u001B[1mtrain: \u001B[0mCaching images (1.4GB ram):  38%|###8      | 2812/7354 [00:07<00:12, 352.65it/s]\n",
      "\u001B[34m\u001B[1mtrain: \u001B[0mCaching images (1.4GB ram):  39%|###8      | 2848/7354 [00:07<00:12, 353.02it/s]\n",
      "\u001B[34m\u001B[1mtrain: \u001B[0mCaching images (1.4GB ram):  39%|###9      | 2884/7354 [00:07<00:12, 350.77it/s]\n",
      "\u001B[34m\u001B[1mtrain: \u001B[0mCaching images (1.4GB ram):  40%|###9      | 2925/7354 [00:07<00:12, 366.96it/s]\n",
      "\u001B[34m\u001B[1mtrain: \u001B[0mCaching images (1.4GB ram):  40%|####      | 2962/7354 [00:07<00:12, 358.11it/s]\n",
      "\u001B[34m\u001B[1mtrain: \u001B[0mCaching images (1.5GB ram):  41%|####      | 3001/7354 [00:07<00:12, 353.85it/s]\n",
      "\u001B[34m\u001B[1mtrain: \u001B[0mCaching images (1.5GB ram):  41%|####1     | 3039/7354 [00:07<00:11, 360.93it/s]\n",
      "\u001B[34m\u001B[1mtrain: \u001B[0mCaching images (1.5GB ram):  42%|####1     | 3076/7354 [00:07<00:12, 356.39it/s]\n",
      "\u001B[34m\u001B[1mtrain: \u001B[0mCaching images (1.5GB ram):  42%|####2     | 3114/7354 [00:08<00:11, 362.69it/s]\n",
      "\u001B[34m\u001B[1mtrain: \u001B[0mCaching images (1.5GB ram):  43%|####2     | 3151/7354 [00:08<00:12, 346.21it/s]\n",
      "\u001B[34m\u001B[1mtrain: \u001B[0mCaching images (1.5GB ram):  43%|####3     | 3189/7354 [00:08<00:11, 351.67it/s]\n",
      "\u001B[34m\u001B[1mtrain: \u001B[0mCaching images (1.6GB ram):  44%|####3     | 3229/7354 [00:08<00:11, 352.24it/s]\n",
      "\u001B[34m\u001B[1mtrain: \u001B[0mCaching images (1.6GB ram):  44%|####4     | 3269/7354 [00:08<00:11, 363.99it/s]\n",
      "\u001B[34m\u001B[1mtrain: \u001B[0mCaching images (1.6GB ram):  45%|####4     | 3306/7354 [00:08<00:11, 350.99it/s]\n",
      "\u001B[34m\u001B[1mtrain: \u001B[0mCaching images (1.6GB ram):  46%|####5     | 3347/7354 [00:08<00:11, 360.47it/s]\n",
      "\u001B[34m\u001B[1mtrain: \u001B[0mCaching images (1.6GB ram):  46%|####6     | 3386/7354 [00:08<00:10, 368.01it/s]\n",
      "\u001B[34m\u001B[1mtrain: \u001B[0mCaching images (1.7GB ram):  47%|####6     | 3423/7354 [00:08<00:10, 363.35it/s]\n",
      "\u001B[34m\u001B[1mtrain: \u001B[0mCaching images (1.7GB ram):  47%|####7     | 3461/7354 [00:09<00:10, 367.07it/s]\n",
      "\u001B[34m\u001B[1mtrain: \u001B[0mCaching images (1.7GB ram):  48%|####7     | 3501/7354 [00:09<00:10, 373.50it/s]\n",
      "\u001B[34m\u001B[1mtrain: \u001B[0mCaching images (1.7GB ram):  48%|####8     | 3542/7354 [00:09<00:10, 379.90it/s]\n",
      "\u001B[34m\u001B[1mtrain: \u001B[0mCaching images (1.7GB ram):  49%|####8     | 3585/7354 [00:09<00:09, 393.88it/s]\n",
      "\u001B[34m\u001B[1mtrain: \u001B[0mCaching images (1.8GB ram):  49%|####9     | 3627/7354 [00:09<00:09, 401.43it/s]\n",
      "\u001B[34m\u001B[1mtrain: \u001B[0mCaching images (1.8GB ram):  50%|####9     | 3668/7354 [00:09<00:09, 403.26it/s]\n",
      "\u001B[34m\u001B[1mtrain: \u001B[0mCaching images (1.8GB ram):  50%|#####     | 3713/7354 [00:09<00:08, 415.20it/s]\n",
      "\u001B[34m\u001B[1mtrain: \u001B[0mCaching images (1.8GB ram):  51%|#####1    | 3755/7354 [00:09<00:08, 408.42it/s]\n",
      "\u001B[34m\u001B[1mtrain: \u001B[0mCaching images (1.8GB ram):  52%|#####1    | 3801/7354 [00:09<00:08, 420.28it/s]\n",
      "\u001B[34m\u001B[1mtrain: \u001B[0mCaching images (1.9GB ram):  52%|#####2    | 3844/7354 [00:09<00:08, 418.50it/s]\n",
      "\u001B[34m\u001B[1mtrain: \u001B[0mCaching images (1.9GB ram):  53%|#####2    | 3886/7354 [00:10<00:08, 403.98it/s]\n",
      "\u001B[34m\u001B[1mtrain: \u001B[0mCaching images (1.9GB ram):  53%|#####3    | 3927/7354 [00:10<00:08, 402.91it/s]\n",
      "\u001B[34m\u001B[1mtrain: \u001B[0mCaching images (1.9GB ram):  54%|#####3    | 3968/7354 [00:10<00:08, 395.41it/s]\n",
      "\u001B[34m\u001B[1mtrain: \u001B[0mCaching images (1.9GB ram):  55%|#####4    | 4009/7354 [00:10<00:08, 395.23it/s]\n",
      "\u001B[34m\u001B[1mtrain: \u001B[0mCaching images (2.0GB ram):  55%|#####5    | 4050/7354 [00:10<00:08, 398.20it/s]\n",
      "\u001B[34m\u001B[1mtrain: \u001B[0mCaching images (2.0GB ram):  56%|#####5    | 4090/7354 [00:10<00:08, 389.49it/s]\n",
      "\u001B[34m\u001B[1mtrain: \u001B[0mCaching images (2.0GB ram):  56%|#####6    | 4131/7354 [00:10<00:08, 394.33it/s]\n",
      "\u001B[34m\u001B[1mtrain: \u001B[0mCaching images (2.0GB ram):  57%|#####6    | 4175/7354 [00:10<00:07, 400.82it/s]\n",
      "\u001B[34m\u001B[1mtrain: \u001B[0mCaching images (2.0GB ram):  57%|#####7    | 4216/7354 [00:10<00:08, 391.68it/s]\n",
      "\u001B[34m\u001B[1mtrain: \u001B[0mCaching images (2.1GB ram):  58%|#####7    | 4260/7354 [00:11<00:07, 400.25it/s]\n",
      "\u001B[34m\u001B[1mtrain: \u001B[0mCaching images (2.1GB ram):  58%|#####8    | 4301/7354 [00:11<00:07, 395.76it/s]\n",
      "\u001B[34m\u001B[1mtrain: \u001B[0mCaching images (2.1GB ram):  59%|#####9    | 4341/7354 [00:11<00:07, 380.67it/s]\n",
      "\u001B[34m\u001B[1mtrain: \u001B[0mCaching images (2.1GB ram):  60%|#####9    | 4380/7354 [00:11<00:07, 381.24it/s]\n",
      "\u001B[34m\u001B[1mtrain: \u001B[0mCaching images (2.1GB ram):  60%|######    | 4422/7354 [00:11<00:07, 390.42it/s]\n",
      "\u001B[34m\u001B[1mtrain: \u001B[0mCaching images (2.2GB ram):  61%|######    | 4467/7354 [00:11<00:07, 400.81it/s]\n",
      "\u001B[34m\u001B[1mtrain: \u001B[0mCaching images (2.2GB ram):  61%|######1   | 4508/7354 [00:11<00:07, 392.47it/s]\n",
      "\u001B[34m\u001B[1mtrain: \u001B[0mCaching images (2.2GB ram):  62%|######1   | 4552/7354 [00:11<00:06, 405.83it/s]\n",
      "\u001B[34m\u001B[1mtrain: \u001B[0mCaching images (2.2GB ram):  62%|######2   | 4594/7354 [00:11<00:06, 406.87it/s]\n",
      "\u001B[34m\u001B[1mtrain: \u001B[0mCaching images (2.2GB ram):  63%|######3   | 4635/7354 [00:11<00:06, 406.70it/s]\n",
      "\u001B[34m\u001B[1mtrain: \u001B[0mCaching images (2.3GB ram):  64%|######3   | 4676/7354 [00:12<00:06, 393.63it/s]\n",
      "\u001B[34m\u001B[1mtrain: \u001B[0mCaching images (2.3GB ram):  64%|######4   | 4716/7354 [00:12<00:07, 375.00it/s]\n",
      "\u001B[34m\u001B[1mtrain: \u001B[0mCaching images (2.3GB ram):  65%|######4   | 4754/7354 [00:12<00:07, 368.15it/s]\n",
      "\u001B[34m\u001B[1mtrain: \u001B[0mCaching images (2.3GB ram):  65%|######5   | 4791/7354 [00:12<00:07, 356.42it/s]\n",
      "\u001B[34m\u001B[1mtrain: \u001B[0mCaching images (2.3GB ram):  66%|######5   | 4832/7354 [00:12<00:06, 365.80it/s]\n",
      "\u001B[34m\u001B[1mtrain: \u001B[0mCaching images (2.4GB ram):  66%|######6   | 4877/7354 [00:12<00:06, 383.83it/s]\n",
      "\u001B[34m\u001B[1mtrain: \u001B[0mCaching images (2.4GB ram):  67%|######6   | 4920/7354 [00:12<00:06, 393.81it/s]\n",
      "\u001B[34m\u001B[1mtrain: \u001B[0mCaching images (2.4GB ram):  67%|######7   | 4960/7354 [00:12<00:06, 388.32it/s]\n",
      "\u001B[34m\u001B[1mtrain: \u001B[0mCaching images (2.4GB ram):  68%|######7   | 4999/7354 [00:12<00:06, 388.40it/s]\n",
      "\u001B[34m\u001B[1mtrain: \u001B[0mCaching images (2.4GB ram):  69%|######8   | 5042/7354 [00:13<00:05, 398.73it/s]\n",
      "\u001B[34m\u001B[1mtrain: \u001B[0mCaching images (2.5GB ram):  69%|######9   | 5082/7354 [00:13<00:05, 398.51it/s]\n",
      "\u001B[34m\u001B[1mtrain: \u001B[0mCaching images (2.5GB ram):  70%|######9   | 5122/7354 [00:13<00:05, 386.52it/s]\n",
      "\u001B[34m\u001B[1mtrain: \u001B[0mCaching images (2.5GB ram):  70%|#######   | 5161/7354 [00:13<00:05, 386.90it/s]\n",
      "\u001B[34m\u001B[1mtrain: \u001B[0mCaching images (2.5GB ram):  71%|#######   | 5200/7354 [00:13<00:05, 383.56it/s]\n",
      "\u001B[34m\u001B[1mtrain: \u001B[0mCaching images (2.5GB ram):  71%|#######1  | 5241/7354 [00:13<00:05, 388.09it/s]\n",
      "\u001B[34m\u001B[1mtrain: \u001B[0mCaching images (2.6GB ram):  72%|#######1  | 5284/7354 [00:13<00:05, 397.43it/s]\n",
      "\u001B[34m\u001B[1mtrain: \u001B[0mCaching images (2.6GB ram):  72%|#######2  | 5330/7354 [00:13<00:04, 413.80it/s]\n",
      "\u001B[34m\u001B[1mtrain: \u001B[0mCaching images (2.6GB ram):  73%|#######3  | 5372/7354 [00:13<00:04, 414.32it/s]\n",
      "\u001B[34m\u001B[1mtrain: \u001B[0mCaching images (2.6GB ram):  74%|#######3  | 5414/7354 [00:13<00:04, 398.77it/s]\n",
      "\u001B[34m\u001B[1mtrain: \u001B[0mCaching images (2.6GB ram):  74%|#######4  | 5455/7354 [00:14<00:04, 390.46it/s]\n",
      "\u001B[34m\u001B[1mtrain: \u001B[0mCaching images (2.7GB ram):  75%|#######4  | 5495/7354 [00:14<00:04, 382.86it/s]\n",
      "\u001B[34m\u001B[1mtrain: \u001B[0mCaching images (2.7GB ram):  75%|#######5  | 5534/7354 [00:14<00:04, 367.01it/s]\n",
      "\u001B[34m\u001B[1mtrain: \u001B[0mCaching images (2.7GB ram):  76%|#######5  | 5575/7354 [00:14<00:04, 378.50it/s]\n",
      "\u001B[34m\u001B[1mtrain: \u001B[0mCaching images (2.7GB ram):  76%|#######6  | 5614/7354 [00:14<00:04, 380.18it/s]\n",
      "\u001B[34m\u001B[1mtrain: \u001B[0mCaching images (2.7GB ram):  77%|#######6  | 5654/7354 [00:14<00:04, 385.20it/s]\n",
      "\u001B[34m\u001B[1mtrain: \u001B[0mCaching images (2.8GB ram):  77%|#######7  | 5693/7354 [00:14<00:04, 359.67it/s]\n",
      "\u001B[34m\u001B[1mtrain: \u001B[0mCaching images (2.8GB ram):  78%|#######7  | 5730/7354 [00:14<00:04, 351.00it/s]\n",
      "\u001B[34m\u001B[1mtrain: \u001B[0mCaching images (2.8GB ram):  78%|#######8  | 5771/7354 [00:14<00:04, 356.23it/s]\n",
      "\u001B[34m\u001B[1mtrain: \u001B[0mCaching images (2.8GB ram):  79%|#######9  | 5812/7354 [00:15<00:04, 366.88it/s]\n",
      "\u001B[34m\u001B[1mtrain: \u001B[0mCaching images (2.8GB ram):  80%|#######9  | 5854/7354 [00:15<00:04, 374.51it/s]\n",
      "\u001B[34m\u001B[1mtrain: \u001B[0mCaching images (2.9GB ram):  80%|########  | 5897/7354 [00:15<00:03, 387.87it/s]\n",
      "\u001B[34m\u001B[1mtrain: \u001B[0mCaching images (2.9GB ram):  81%|########  | 5936/7354 [00:15<00:03, 387.69it/s]\n",
      "\u001B[34m\u001B[1mtrain: \u001B[0mCaching images (2.9GB ram):  81%|########1 | 5977/7354 [00:15<00:03, 392.91it/s]\n",
      "\u001B[34m\u001B[1mtrain: \u001B[0mCaching images (2.9GB ram):  82%|########1 | 6017/7354 [00:15<00:03, 391.79it/s]\n",
      "\u001B[34m\u001B[1mtrain: \u001B[0mCaching images (2.9GB ram):  82%|########2 | 6057/7354 [00:15<00:03, 385.42it/s]\n",
      "\u001B[34m\u001B[1mtrain: \u001B[0mCaching images (2.9GB ram):  83%|########2 | 6096/7354 [00:15<00:03, 370.48it/s]\n",
      "\u001B[34m\u001B[1mtrain: \u001B[0mCaching images (3.0GB ram):  83%|########3 | 6135/7354 [00:15<00:03, 373.42it/s]\n",
      "\u001B[34m\u001B[1mtrain: \u001B[0mCaching images (3.0GB ram):  84%|########3 | 6175/7354 [00:16<00:03, 380.89it/s]\n",
      "\u001B[34m\u001B[1mtrain: \u001B[0mCaching images (3.0GB ram):  84%|########4 | 6214/7354 [00:16<00:03, 373.51it/s]\n",
      "\u001B[34m\u001B[1mtrain: \u001B[0mCaching images (3.0GB ram):  85%|########5 | 6252/7354 [00:16<00:02, 370.57it/s]\n",
      "\u001B[34m\u001B[1mtrain: \u001B[0mCaching images (3.0GB ram):  86%|########5 | 6290/7354 [00:16<00:02, 359.72it/s]\n",
      "\u001B[34m\u001B[1mtrain: \u001B[0mCaching images (3.1GB ram):  86%|########6 | 6330/7354 [00:16<00:02, 366.28it/s]\n",
      "\u001B[34m\u001B[1mtrain: \u001B[0mCaching images (3.1GB ram):  87%|########6 | 6372/7354 [00:16<00:02, 381.48it/s]\n",
      "\u001B[34m\u001B[1mtrain: \u001B[0mCaching images (3.1GB ram):  87%|########7 | 6411/7354 [00:16<00:02, 377.09it/s]\n",
      "\u001B[34m\u001B[1mtrain: \u001B[0mCaching images (3.1GB ram):  88%|########7 | 6449/7354 [00:16<00:02, 364.92it/s]\n",
      "\u001B[34m\u001B[1mtrain: \u001B[0mCaching images (3.1GB ram):  88%|########8 | 6490/7354 [00:16<00:02, 375.73it/s]\n",
      "\u001B[34m\u001B[1mtrain: \u001B[0mCaching images (3.2GB ram):  89%|########8 | 6528/7354 [00:16<00:02, 367.43it/s]\n",
      "\u001B[34m\u001B[1mtrain: \u001B[0mCaching images (3.2GB ram):  89%|########9 | 6568/7354 [00:17<00:02, 376.58it/s]\n",
      "\u001B[34m\u001B[1mtrain: \u001B[0mCaching images (3.2GB ram):  90%|########9 | 6608/7354 [00:17<00:01, 380.07it/s]\n",
      "\u001B[34m\u001B[1mtrain: \u001B[0mCaching images (3.2GB ram):  90%|######### | 6647/7354 [00:17<00:01, 371.99it/s]\n",
      "\u001B[34m\u001B[1mtrain: \u001B[0mCaching images (3.2GB ram):  91%|######### | 6685/7354 [00:17<00:01, 365.01it/s]\n",
      "\u001B[34m\u001B[1mtrain: \u001B[0mCaching images (3.3GB ram):  91%|#########1| 6723/7354 [00:17<00:01, 364.27it/s]\n",
      "\u001B[34m\u001B[1mtrain: \u001B[0mCaching images (3.3GB ram):  92%|#########1| 6763/7354 [00:17<00:01, 373.85it/s]\n",
      "\u001B[34m\u001B[1mtrain: \u001B[0mCaching images (3.3GB ram):  93%|#########2| 6803/7354 [00:17<00:01, 381.28it/s]\n",
      "\u001B[34m\u001B[1mtrain: \u001B[0mCaching images (3.3GB ram):  93%|#########3| 6846/7354 [00:17<00:01, 390.42it/s]\n",
      "\u001B[34m\u001B[1mtrain: \u001B[0mCaching images (3.3GB ram):  94%|#########3| 6886/7354 [00:17<00:01, 392.80it/s]\n",
      "\u001B[34m\u001B[1mtrain: \u001B[0mCaching images (3.3GB ram):  94%|#########4| 6926/7354 [00:18<00:01, 376.87it/s]\n",
      "\u001B[34m\u001B[1mtrain: \u001B[0mCaching images (3.4GB ram):  95%|#########4| 6964/7354 [00:18<00:01, 373.41it/s]\n",
      "\u001B[34m\u001B[1mtrain: \u001B[0mCaching images (3.4GB ram):  95%|#########5| 7002/7354 [00:18<00:00, 371.52it/s]\n",
      "\u001B[34m\u001B[1mtrain: \u001B[0mCaching images (3.4GB ram):  96%|#########5| 7040/7354 [00:18<00:00, 366.71it/s]\n",
      "\u001B[34m\u001B[1mtrain: \u001B[0mCaching images (3.4GB ram):  96%|#########6| 7077/7354 [00:18<00:00, 359.02it/s]\n",
      "\u001B[34m\u001B[1mtrain: \u001B[0mCaching images (3.4GB ram):  97%|#########6| 7113/7354 [00:18<00:00, 336.50it/s]\n",
      "\u001B[34m\u001B[1mtrain: \u001B[0mCaching images (3.5GB ram):  97%|#########7| 7147/7354 [00:18<00:00, 335.30it/s]\n",
      "\u001B[34m\u001B[1mtrain: \u001B[0mCaching images (3.5GB ram):  98%|#########7| 7182/7354 [00:18<00:00, 333.97it/s]\n",
      "\u001B[34m\u001B[1mtrain: \u001B[0mCaching images (3.5GB ram):  98%|#########8| 7216/7354 [00:18<00:00, 333.54it/s]\n",
      "\u001B[34m\u001B[1mtrain: \u001B[0mCaching images (3.5GB ram):  99%|#########8| 7251/7354 [00:19<00:00, 319.46it/s]\n",
      "\u001B[34m\u001B[1mtrain: \u001B[0mCaching images (3.5GB ram):  99%|#########9| 7286/7354 [00:19<00:00, 316.25it/s]\n",
      "\u001B[34m\u001B[1mtrain: \u001B[0mCaching images (3.5GB ram): 100%|#########9| 7320/7354 [00:19<00:00, 316.04it/s]\n",
      "\u001B[34m\u001B[1mtrain: \u001B[0mCaching images (3.6GB ram): 100%|#########9| 7352/7354 [00:19<00:00, 315.75it/s]\n",
      "\u001B[34m\u001B[1mtrain: \u001B[0mCaching images (3.6GB ram): 100%|##########| 7354/7354 [00:19<00:00, 380.08it/s]\n",
      "Traceback (most recent call last):\n",
      "  File \"C:\\Users\\Chanda\\Final_Year_Project\\yolov5\\train.py\", line 836, in <module>\n",
      "    main(opt)\n",
      "  File \"C:\\Users\\Chanda\\Final_Year_Project\\yolov5\\train.py\", line 616, in main\n",
      "    train(opt.hyp, opt, device, callbacks)\n",
      "  File \"C:\\Users\\Chanda\\Final_Year_Project\\yolov5\\train.py\", line 248, in train\n",
      "    train_loader, dataset = create_dataloader(\n",
      "                            ^^^^^^^^^^^^^^^^^^\n",
      "  File \"C:\\Users\\Chanda\\Final_Year_Project\\yolov5\\utils\\dataloaders.py\", line 200, in create_dataloader\n",
      "    return loader(\n",
      "           ^^^^^^^\n",
      "  File \"C:\\Users\\Chanda\\Final_Year_Project\\yolov5\\utils\\dataloaders.py\", line 223, in __init__\n",
      "    self.iterator = super().__iter__()\n",
      "                    ^^^^^^^^^^^^^^^^^^\n",
      "  File \"C:\\Users\\Chanda\\AppData\\Roaming\\Python\\Python311\\site-packages\\torch\\utils\\data\\dataloader.py\", line 439, in __iter__\n",
      "    return self._get_iterator()\n",
      "           ^^^^^^^^^^^^^^^^^^^^\n",
      "  File \"C:\\Users\\Chanda\\AppData\\Roaming\\Python\\Python311\\site-packages\\torch\\utils\\data\\dataloader.py\", line 387, in _get_iterator\n",
      "    return _MultiProcessingDataLoaderIter(self)\n",
      "           ^^^^^^^^^^^^^^^^^^^^^^^^^^^^^^^^^^^^\n",
      "  File \"C:\\Users\\Chanda\\AppData\\Roaming\\Python\\Python311\\site-packages\\torch\\utils\\data\\dataloader.py\", line 1040, in __init__\n",
      "    w.start()\n",
      "  File \"C:\\ProgramData\\anaconda3\\Lib\\multiprocessing\\process.py\", line 121, in start\n",
      "    self._popen = self._Popen(self)\n",
      "                  ^^^^^^^^^^^^^^^^^\n",
      "  File \"C:\\ProgramData\\anaconda3\\Lib\\multiprocessing\\context.py\", line 224, in _Popen\n",
      "    return _default_context.get_context().Process._Popen(process_obj)\n",
      "           ^^^^^^^^^^^^^^^^^^^^^^^^^^^^^^^^^^^^^^^^^^^^^^^^^^^^^^^^^^\n",
      "  File \"C:\\ProgramData\\anaconda3\\Lib\\multiprocessing\\context.py\", line 336, in _Popen\n",
      "    return Popen(process_obj)\n",
      "           ^^^^^^^^^^^^^^^^^^\n",
      "  File \"C:\\ProgramData\\anaconda3\\Lib\\multiprocessing\\popen_spawn_win32.py\", line 94, in __init__\n",
      "    reduction.dump(process_obj, to_child)\n",
      "  File \"C:\\ProgramData\\anaconda3\\Lib\\multiprocessing\\reduction.py\", line 60, in dump\n",
      "    ForkingPickler(file, protocol).dump(obj)\n",
      "MemoryError\n",
      "Traceback (most recent call last):\n",
      "  File \"<string>\", line 1, in <module>\n",
      "  File \"C:\\ProgramData\\anaconda3\\Lib\\multiprocessing\\spawn.py\", line 122, in spawn_main\n",
      "    exitcode = _main(fd, parent_sentinel)\n",
      "               ^^^^^^^^^^^^^^^^^^^^^^^^^^\n",
      "  File \"C:\\ProgramData\\anaconda3\\Lib\\multiprocessing\\spawn.py\", line 132, in _main\n",
      "    self = reduction.pickle.load(from_parent)\n",
      "           ^^^^^^^^^^^^^^^^^^^^^^^^^^^^^^^^^^\n",
      "EOFError: Ran out of input\n"
     ]
    }
   ],
   "source": [
    "!python train.py --img 416 --batch 16 --epochs 1 --data C:\\Users\\Chanda\\Final_Year_Project\\dataset\\data.yaml --weights yolov5s.pt --cache"
   ]
  },
  {
   "cell_type": "markdown",
   "metadata": {},
   "source": [
    "At the end of the training, two files should be saved in yolov5/runs/train/exp/weights: last.pt and best.pt. We’ll use best.pt.\n",
    "\n",
    "If you want to explore the metrics recorded during training, I suggest you use TensorBoard, a very interactive exploration tool:"
   ]
  },
  {
   "cell_type": "code",
   "execution_count": 18,
   "metadata": {
    "scrolled": true
   },
   "outputs": [
    {
     "ename": "ModuleNotFoundError",
     "evalue": "No module named 'tensorboard'",
     "output_type": "error",
     "traceback": [
      "\u001B[1;31m---------------------------------------------------------------------------\u001B[0m",
      "\u001B[1;31mModuleNotFoundError\u001B[0m                       Traceback (most recent call last)",
      "Cell \u001B[1;32mIn[18], line 1\u001B[0m\n\u001B[1;32m----> 1\u001B[0m get_ipython()\u001B[38;5;241m.\u001B[39mrun_line_magic(\u001B[38;5;124m'\u001B[39m\u001B[38;5;124mload_ext\u001B[39m\u001B[38;5;124m'\u001B[39m, \u001B[38;5;124m'\u001B[39m\u001B[38;5;124mtensorboard\u001B[39m\u001B[38;5;124m'\u001B[39m)\n\u001B[0;32m      2\u001B[0m get_ipython()\u001B[38;5;241m.\u001B[39mrun_line_magic(\u001B[38;5;124m'\u001B[39m\u001B[38;5;124mtensorboard\u001B[39m\u001B[38;5;124m'\u001B[39m, \u001B[38;5;124m'\u001B[39m\u001B[38;5;124m--logdir runs\u001B[39m\u001B[38;5;124m'\u001B[39m)\n",
      "File \u001B[1;32mC:\\ProgramData\\anaconda3\\Lib\\site-packages\\IPython\\core\\interactiveshell.py:2432\u001B[0m, in \u001B[0;36mInteractiveShell.run_line_magic\u001B[1;34m(self, magic_name, line, _stack_depth)\u001B[0m\n\u001B[0;32m   2430\u001B[0m     kwargs[\u001B[38;5;124m'\u001B[39m\u001B[38;5;124mlocal_ns\u001B[39m\u001B[38;5;124m'\u001B[39m] \u001B[38;5;241m=\u001B[39m \u001B[38;5;28mself\u001B[39m\u001B[38;5;241m.\u001B[39mget_local_scope(stack_depth)\n\u001B[0;32m   2431\u001B[0m \u001B[38;5;28;01mwith\u001B[39;00m \u001B[38;5;28mself\u001B[39m\u001B[38;5;241m.\u001B[39mbuiltin_trap:\n\u001B[1;32m-> 2432\u001B[0m     result \u001B[38;5;241m=\u001B[39m fn(\u001B[38;5;241m*\u001B[39margs, \u001B[38;5;241m*\u001B[39m\u001B[38;5;241m*\u001B[39mkwargs)\n\u001B[0;32m   2434\u001B[0m \u001B[38;5;66;03m# The code below prevents the output from being displayed\u001B[39;00m\n\u001B[0;32m   2435\u001B[0m \u001B[38;5;66;03m# when using magics with decorator @output_can_be_silenced\u001B[39;00m\n\u001B[0;32m   2436\u001B[0m \u001B[38;5;66;03m# when the last Python token in the expression is a ';'.\u001B[39;00m\n\u001B[0;32m   2437\u001B[0m \u001B[38;5;28;01mif\u001B[39;00m \u001B[38;5;28mgetattr\u001B[39m(fn, magic\u001B[38;5;241m.\u001B[39mMAGIC_OUTPUT_CAN_BE_SILENCED, \u001B[38;5;28;01mFalse\u001B[39;00m):\n",
      "File \u001B[1;32mC:\\ProgramData\\anaconda3\\Lib\\site-packages\\IPython\\core\\magics\\extension.py:33\u001B[0m, in \u001B[0;36mExtensionMagics.load_ext\u001B[1;34m(self, module_str)\u001B[0m\n\u001B[0;32m     31\u001B[0m \u001B[38;5;28;01mif\u001B[39;00m \u001B[38;5;129;01mnot\u001B[39;00m module_str:\n\u001B[0;32m     32\u001B[0m     \u001B[38;5;28;01mraise\u001B[39;00m UsageError(\u001B[38;5;124m'\u001B[39m\u001B[38;5;124mMissing module name.\u001B[39m\u001B[38;5;124m'\u001B[39m)\n\u001B[1;32m---> 33\u001B[0m res \u001B[38;5;241m=\u001B[39m \u001B[38;5;28mself\u001B[39m\u001B[38;5;241m.\u001B[39mshell\u001B[38;5;241m.\u001B[39mextension_manager\u001B[38;5;241m.\u001B[39mload_extension(module_str)\n\u001B[0;32m     35\u001B[0m \u001B[38;5;28;01mif\u001B[39;00m res \u001B[38;5;241m==\u001B[39m \u001B[38;5;124m'\u001B[39m\u001B[38;5;124malready loaded\u001B[39m\u001B[38;5;124m'\u001B[39m:\n\u001B[0;32m     36\u001B[0m     \u001B[38;5;28mprint\u001B[39m(\u001B[38;5;124m\"\u001B[39m\u001B[38;5;124mThe \u001B[39m\u001B[38;5;132;01m%s\u001B[39;00m\u001B[38;5;124m extension is already loaded. To reload it, use:\u001B[39m\u001B[38;5;124m\"\u001B[39m \u001B[38;5;241m%\u001B[39m module_str)\n",
      "File \u001B[1;32mC:\\ProgramData\\anaconda3\\Lib\\site-packages\\IPython\\core\\extensions.py:76\u001B[0m, in \u001B[0;36mExtensionManager.load_extension\u001B[1;34m(self, module_str)\u001B[0m\n\u001B[0;32m     69\u001B[0m \u001B[38;5;250m\u001B[39m\u001B[38;5;124;03m\"\"\"Load an IPython extension by its module name.\u001B[39;00m\n\u001B[0;32m     70\u001B[0m \n\u001B[0;32m     71\u001B[0m \u001B[38;5;124;03mReturns the string \"already loaded\" if the extension is already loaded,\u001B[39;00m\n\u001B[0;32m     72\u001B[0m \u001B[38;5;124;03m\"no load function\" if the module doesn't have a load_ipython_extension\u001B[39;00m\n\u001B[0;32m     73\u001B[0m \u001B[38;5;124;03mfunction, or None if it succeeded.\u001B[39;00m\n\u001B[0;32m     74\u001B[0m \u001B[38;5;124;03m\"\"\"\u001B[39;00m\n\u001B[0;32m     75\u001B[0m \u001B[38;5;28;01mtry\u001B[39;00m:\n\u001B[1;32m---> 76\u001B[0m     \u001B[38;5;28;01mreturn\u001B[39;00m \u001B[38;5;28mself\u001B[39m\u001B[38;5;241m.\u001B[39m_load_extension(module_str)\n\u001B[0;32m     77\u001B[0m \u001B[38;5;28;01mexcept\u001B[39;00m \u001B[38;5;167;01mModuleNotFoundError\u001B[39;00m:\n\u001B[0;32m     78\u001B[0m     \u001B[38;5;28;01mif\u001B[39;00m module_str \u001B[38;5;129;01min\u001B[39;00m BUILTINS_EXTS:\n",
      "File \u001B[1;32mC:\\ProgramData\\anaconda3\\Lib\\site-packages\\IPython\\core\\extensions.py:91\u001B[0m, in \u001B[0;36mExtensionManager._load_extension\u001B[1;34m(self, module_str)\u001B[0m\n\u001B[0;32m     89\u001B[0m \u001B[38;5;28;01mwith\u001B[39;00m \u001B[38;5;28mself\u001B[39m\u001B[38;5;241m.\u001B[39mshell\u001B[38;5;241m.\u001B[39mbuiltin_trap:\n\u001B[0;32m     90\u001B[0m     \u001B[38;5;28;01mif\u001B[39;00m module_str \u001B[38;5;129;01mnot\u001B[39;00m \u001B[38;5;129;01min\u001B[39;00m sys\u001B[38;5;241m.\u001B[39mmodules:\n\u001B[1;32m---> 91\u001B[0m         mod \u001B[38;5;241m=\u001B[39m import_module(module_str)\n\u001B[0;32m     92\u001B[0m     mod \u001B[38;5;241m=\u001B[39m sys\u001B[38;5;241m.\u001B[39mmodules[module_str]\n\u001B[0;32m     93\u001B[0m     \u001B[38;5;28;01mif\u001B[39;00m \u001B[38;5;28mself\u001B[39m\u001B[38;5;241m.\u001B[39m_call_load_ipython_extension(mod):\n",
      "File \u001B[1;32mC:\\ProgramData\\anaconda3\\Lib\\importlib\\__init__.py:126\u001B[0m, in \u001B[0;36mimport_module\u001B[1;34m(name, package)\u001B[0m\n\u001B[0;32m    124\u001B[0m             \u001B[38;5;28;01mbreak\u001B[39;00m\n\u001B[0;32m    125\u001B[0m         level \u001B[38;5;241m+\u001B[39m\u001B[38;5;241m=\u001B[39m \u001B[38;5;241m1\u001B[39m\n\u001B[1;32m--> 126\u001B[0m \u001B[38;5;28;01mreturn\u001B[39;00m _bootstrap\u001B[38;5;241m.\u001B[39m_gcd_import(name[level:], package, level)\n",
      "File \u001B[1;32m<frozen importlib._bootstrap>:1204\u001B[0m, in \u001B[0;36m_gcd_import\u001B[1;34m(name, package, level)\u001B[0m\n",
      "File \u001B[1;32m<frozen importlib._bootstrap>:1176\u001B[0m, in \u001B[0;36m_find_and_load\u001B[1;34m(name, import_)\u001B[0m\n",
      "File \u001B[1;32m<frozen importlib._bootstrap>:1140\u001B[0m, in \u001B[0;36m_find_and_load_unlocked\u001B[1;34m(name, import_)\u001B[0m\n",
      "\u001B[1;31mModuleNotFoundError\u001B[0m: No module named 'tensorboard'"
     ]
    }
   ],
   "source": [
    "%load_ext tensorboard\n",
    "%tensorboard --logdir runs"
   ]
  },
  {
   "cell_type": "markdown",
   "metadata": {},
   "source": [
    "# Testing the Model on Google Colab\n",
    "Let’s explore now how confident our model is. We can plot a validation batch obtained during training and inspect the confidence score of each label:"
   ]
  },
  {
   "cell_type": "code",
   "execution_count": null,
   "metadata": {},
   "outputs": [],
   "source": [
    "Image(filename='runs/train/exp2/val_batch0_labels.jpg', width=1000)"
   ]
  },
  {
   "cell_type": "markdown",
   "metadata": {},
   "source": [
    "# Testing the Model:"
   ]
  },
  {
   "cell_type": "code",
   "execution_count": null,
   "metadata": {},
   "outputs": [],
   "source": [
    "!python detect.py --weights runs/train/exp2/weights/best.pt --img 416 --conf 0.25 --source runs/train/exp2/test_images"
   ]
  },
  {
   "cell_type": "markdown",
   "metadata": {},
   "source": [
    "# Yolov5 model is trained and tested. \n",
    "\n",
    "# Now next step is to convert it into a tflite model, so that we can use it on android phone\n",
    "\n",
    "\n",
    "### you have best.pt and last.pt inside runs\\train\\exp2\\weights"
   ]
  },
  {
   "cell_type": "code",
   "execution_count": null,
   "metadata": {},
   "outputs": [],
   "source": [
    "# Convert weights to fp16 TFLite model\n",
    "\n",
    "!python export.py --weights runs/train/exp2/weights/best.pt --include tflite --img 416"
   ]
  },
  {
   "cell_type": "code",
   "execution_count": null,
   "metadata": {},
   "outputs": [],
   "source": [
    "#After running the above command, you will have best-fp16.tflite in runs\\train\\exp2\\weights folder\n",
    "\n",
    "# Lets run the created tflite model.\n",
    "\n",
    "!python detect.py --weights runs\\train\\exp2\\weights\\best-fp16.tflite --img 416 --conf 0.25 --source runs/train/exp2/test_images"
   ]
  },
  {
   "cell_type": "markdown",
   "metadata": {},
   "source": [
    "# Our model is working fine and results are stored in runs\\detect\\exp3"
   ]
  },
  {
   "cell_type": "code",
   "execution_count": null,
   "metadata": {},
   "outputs": [],
   "source": [
    "#Convert weights to int8 TFLite model\n",
    "\n",
    "#!python export.py --weights runs/train/exp2/weights/best.pt --include tflite --int8 --img 416 --data data/coco128.yaml"
   ]
  },
  {
   "cell_type": "markdown",
   "metadata": {},
   "source": [
    "## 3. Get the android folder from here\n",
    "https://github.com/AarohiSingla/TFLite-Object-Detection-Android-App-Tutorial-Using-YOLOv5"
   ]
  },
  {
   "cell_type": "markdown",
   "metadata": {},
   "source": [
    "### Now Put TFLite models in assets folder of Android project, and change\n",
    "\n",
    "And then open android/app/src/main/java/org/tensorflow/lite/examples/detection/tflite/DetectorFactory.java\n",
    "\n",
    "Do the following changes:\n",
    "\n",
    "Change the inputSize of image as per your dataset.\n",
    "\n",
    "Change labelFilename according to the classes of the model\n",
    "\n",
    "    \n",
    "Then run the program in Android Studio."
   ]
  },
  {
   "cell_type": "code",
   "execution_count": null,
   "metadata": {},
   "outputs": [],
   "source": []
  }
 ],
 "metadata": {
  "kernelspec": {
   "display_name": "Python 3 (ipykernel)",
   "language": "python",
   "name": "python3"
  },
  "language_info": {
   "codemirror_mode": {
    "name": "ipython",
    "version": 3
   },
   "file_extension": ".py",
   "mimetype": "text/x-python",
   "name": "python",
   "nbconvert_exporter": "python",
   "pygments_lexer": "ipython3",
   "version": "3.11.5"
  }
 },
 "nbformat": 4,
 "nbformat_minor": 4
}
